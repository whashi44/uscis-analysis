{
 "cells": [
  {
   "cell_type": "markdown",
   "metadata": {},
   "source": [
    "Structure of the visajourney website is that the data is stored in the class called \"pme-main\" and structure is as follows:\n",
    "\n",
    "\\<table class=\"pme-main\"> \\\n",
    "tbody \\\n",
    "\\<tr> \\\n",
    "\\<th> \\<b>\"Header Name here\" <\\b> \\</th>  \n",
    "\n",
    "\\<tr> \\\n",
    "\t\\<td> \\<a> \"Nick name of an applicant\" \\</a>\\</td> \\\n",
    "\t\\<td> \"visa type\" \\</td>  \\\n",
    "\t\\<td> \\<a>\"city name\" \\</a> \\</td> \\\n",
    "\tthe rest of the inputs are all in \\<td> \\</td> \\ \n",
    "\\</tr>\n",
    "\n",
    "Then the next person starts in another \\<tr>\\</tr>"
   ]
  },
  {
   "cell_type": "code",
   "execution_count": 46,
   "metadata": {},
   "outputs": [],
   "source": [
    "%reset -f"
   ]
  },
  {
   "cell_type": "code",
   "execution_count": 200,
   "metadata": {},
   "outputs": [],
   "source": [
    "%reset -f\n",
    "# standard library \n",
    "import requests\n",
    "import csv, re\n",
    "import time \n",
    "import cProfile\n",
    "import pstats\n",
    "# external library \n",
    "from bs4 import BeautifulSoup\n",
    "from tqdm import tqdm \n"
   ]
  },
  {
   "cell_type": "code",
   "execution_count": 203,
   "metadata": {},
   "outputs": [
    {
     "name": "stdout",
     "output_type": "stream",
     "text": [
      "Session initialized\n",
      "https://www.visajourney.com/timeline/aoslist.php?op4=1\n",
      "https://www.visajourney.com/timeline/aoslist.php?op4=2\n",
      "https://www.visajourney.com/timeline/aoslist.php?op4=3\n",
      "https://www.visajourney.com/timeline/aoslist.php?op4=4\n",
      "https://www.visajourney.com/timeline/aoslist.php?op4=5\n"
     ]
    }
   ],
   "source": [
    "url = \"https://www.visajourney.com/timeline/aoslist.php\"\n",
    "\n",
    "with requests.Session() as s:\n",
    "    print(\"Session initialized\")\n",
    "    data = []\n",
    "    soup = BeautifulSoup(s.get(url).text, \"html.parser\")\n",
    "    # This will gives the span with class pagelinklast, and then find the child element a\n",
    "    last_page_url = soup.find(\"span\", {\"class\": \"pagelinklast\"}).find(\"a\")\n",
    "    # Then find the href, and split by & \n",
    "    last_page = last_page_url['href'].split(\"&\")\n",
    "    for item in last_page:\n",
    "        # The last page parameter is in op4\n",
    "        if \"op4\" in item:\n",
    "            last_page_num = int(item.split(\"=\")[1])\n",
    "    target_table = \"pme-main\"\n",
    "    table = soup.find(class_=target_table)\n",
    "    # print(table)\n",
    "    headers = []\n",
    "    data = []\n",
    "    # Make list of headers \n",
    "    for col in table.find_all('th'):\n",
    "        headers.append(col.text.strip())\n",
    "    last_page_num = 5\n",
    "    # iterate over pages \n",
    "    for page in range(1,last_page_num+1):\n",
    "        current_page = url + f\"?op4={page}\"\n",
    "        print(current_page)\n",
    "        soup = BeautifulSoup(s.get(current_page).text,\"html.parser\")\n",
    "        table = soup.find(class_ = target_table)\n",
    "        counter = 0 \n",
    "        for row in table.find_all(\"tr\"):\n",
    "            # Need to skip the header tr \n",
    "            if (counter == 0):\n",
    "                counter = 1 \n",
    "                continue \n",
    "            t_row = {}\n",
    "            for col, header in zip(row.find_all('td'), headers):\n",
    "                t_row[header] = col.text.strip()\n",
    "            data.append(t_row)\n",
    "    keys = data[0].keys()\n",
    "    file_name = 'visajourney.csv'\n",
    "    with open(file_name, 'w', encoding='utf-8', newline=\"\") as data_file:\n",
    "        dict_writer = csv.DictWriter(data_file, keys)\n",
    "        dict_writer.writeheader()\n",
    "        dict_writer.writerows(data) \n"
   ]
  }
 ],
 "metadata": {
  "interpreter": {
   "hash": "ec4fe7585462e156b559df938c0de9ba8517dd13ad1671bf818b1cefee983cf1"
  },
  "kernelspec": {
   "display_name": "Python 3.8.10 64-bit ('.venv': venv)",
   "name": "python3"
  },
  "language_info": {
   "codemirror_mode": {
    "name": "ipython",
    "version": 3
   },
   "file_extension": ".py",
   "mimetype": "text/x-python",
   "name": "python",
   "nbconvert_exporter": "python",
   "pygments_lexer": "ipython3",
   "version": "3.8.10"
  },
  "orig_nbformat": 4
 },
 "nbformat": 4,
 "nbformat_minor": 2
}
